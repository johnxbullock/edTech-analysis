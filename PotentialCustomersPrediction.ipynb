{
 "cells": [
  {
   "cell_type": "markdown",
   "id": "AT5OogJVFbwu",
   "metadata": {
    "id": "AT5OogJVFbwu"
   },
   "source": [
    "# ExtraaLearn Project\n",
    "\n",
    "## Context\n",
    "\n",
    "The EdTech industry has been surging in the past decade immensely, and according to a forecast, the Online Education market would be worth $286.62bn by 2023 with a compound annual growth rate (CAGR) of 10.26% from 2018 to 2023. The modern era of online education has enforced a lot in its growth and expansion beyond any limit. Due to having many dominant features like ease of information sharing, personalized learning experience, transparency of assessment, etc, it is now preferable to traditional education. \n",
    "\n",
    "In the present scenario due to the Covid-19, the online education sector has witnessed rapid growth and is attracting a lot of new customers. Due to this rapid growth, many new companies have emerged in this industry. With the availability and ease of use of digital marketing resources, companies can reach out to a wider audience with their offerings. The customers who show interest in these offerings are termed as leads. There are various sources of obtaining leads for Edtech companies, like\n",
    "\n",
    "* The customer interacts with the marketing front on social media or other online platforms. \n",
    "* The customer browses the website/app and downloads the brochure\n",
    "* The customer connects through emails for more information.\n",
    "\n",
    "The company then nurtures these leads and tries to convert them to paid customers. For this, the representative from the organization connects with the lead on call or through email to share further details.\n",
    "\n",
    "## Objective\n",
    "\n",
    "ExtraaLearn is an initial stage startup that offers programs on cutting-edge technologies to students and professionals to help them upskill/reskill. With a large number of leads being generated on a regular basis, one of the issues faced by ExtraaLearn is to identify which of the leads are more likely to convert so that they can allocate resources accordingly. You, as a data scientist at ExtraaLearn, have been provided the leads data to:\n",
    "* Analyze and build an ML model to help identify which leads are more likely to convert to paid customers, \n",
    "* Find the factors driving the lead conversion process\n",
    "* Create a profile of the leads which are likely to convert\n",
    "\n",
    "\n",
    "## Data Description\n",
    "\n",
    "The data contains the different attributes of leads and their interaction details with ExtraaLearn. The detailed data dictionary is given below.\n",
    "\n",
    "\n",
    "**Data Dictionary**\n",
    "* ID: ID of the lead\n",
    "* age: Age of the lead\n",
    "* current_occupation: Current occupation of the lead. Values include 'Professional','Unemployed',and 'Student'\n",
    "* first_interaction: How did the lead first interacted with ExtraaLearn. Values include 'Website', 'Mobile App'\n",
    "* profile_completed: What percentage of profile has been filled by the lead on the website/mobile app. Values include Low - (0-50%), Medium - (50-75%), High (75-100%)\n",
    "* website_visits: How many times has a lead visited the website\n",
    "* time_spent_on_website: Total time spent on the website\n",
    "* page_views_per_visit: Average number of pages on the website viewed during the visits.\n",
    "* last_activity: Last interaction between the lead and ExtraaLearn. \n",
    "    * Email Activity: Seeking for details about program through email, Representative shared information with lead like brochure of program , etc \n",
    "    * Phone Activity: Had a Phone Conversation with representative, Had conversation over SMS with representative, etc\n",
    "    * Website Activity: Interacted on live chat with representative, Updated profile on website, etc\n",
    "\n",
    "* print_media_type1: Flag indicating whether the lead had seen the ad of ExtraaLearn in the Newspaper.\n",
    "* print_media_type2: Flag indicating whether the lead had seen the ad of ExtraaLearn in the Magazine.\n",
    "* digital_media: Flag indicating whether the lead had seen the ad of ExtraaLearn on the digital platforms.\n",
    "* educational_channels: Flag indicating whether the lead had heard about ExtraaLearn in the education channels like online forums, discussion threads, educational websites, etc.\n",
    "* referral: Flag indicating whether the lead had heard about ExtraaLearn through reference.\n",
    "* status: Flag indicating whether the lead was converted to a paid customer or not."
   ]
  },
  {
   "cell_type": "markdown",
   "id": "dirty-island",
   "metadata": {
    "id": "dirty-island"
   },
   "source": [
    "## Importing necessary libraries and data"
   ]
  },
  {
   "cell_type": "code",
   "execution_count": 29,
   "id": "statewide-still",
   "metadata": {
    "id": "statewide-still",
    "ExecuteTime": {
     "end_time": "2024-08-27T12:15:00.575312Z",
     "start_time": "2024-08-27T12:15:00.571153Z"
    }
   },
   "outputs": [],
   "source": [
    "import pandas as pd\n",
    "import numpy as np"
   ]
  },
  {
   "cell_type": "markdown",
   "id": "desperate-infection",
   "metadata": {
    "id": "desperate-infection"
   },
   "source": [
    "## Data Overview\n",
    "\n",
    "- Observations\n",
    "- Sanity checks"
   ]
  },
  {
   "cell_type": "code",
   "execution_count": 49,
   "id": "persistent-juice",
   "metadata": {
    "id": "persistent-juice",
    "ExecuteTime": {
     "end_time": "2024-08-27T12:19:59.239964Z",
     "start_time": "2024-08-27T12:19:59.220392Z"
    }
   },
   "outputs": [],
   "source": [
    "# initialize a dataframe from the csv data\n",
    "df = pd.read_csv('Data/ExtraaLearn.csv')"
   ]
  },
  {
   "cell_type": "code",
   "outputs": [
    {
     "data": {
      "text/plain": "       ID  age current_occupation first_interaction profile_completed  \\\n0  EXT001   57         Unemployed           Website              High   \n1  EXT002   56       Professional        Mobile App            Medium   \n2  EXT003   52       Professional           Website            Medium   \n3  EXT004   53         Unemployed           Website              High   \n4  EXT005   23            Student           Website              High   \n\n   website_visits  time_spent_on_website  page_views_per_visit  \\\n0               7                   1639                 1.861   \n1               2                     83                 0.320   \n2               3                    330                 0.074   \n3               4                    464                 2.057   \n4               4                    600                16.914   \n\n      last_activity print_media_type1 print_media_type2 digital_media  \\\n0  Website Activity               Yes                No           Yes   \n1  Website Activity                No                No            No   \n2  Website Activity                No                No           Yes   \n3  Website Activity                No                No            No   \n4    Email Activity                No                No            No   \n\n  educational_channels referral  status  \n0                   No       No       1  \n1                  Yes       No       0  \n2                   No       No       0  \n3                   No       No       1  \n4                   No       No       0  ",
      "text/html": "<div>\n<style scoped>\n    .dataframe tbody tr th:only-of-type {\n        vertical-align: middle;\n    }\n\n    .dataframe tbody tr th {\n        vertical-align: top;\n    }\n\n    .dataframe thead th {\n        text-align: right;\n    }\n</style>\n<table border=\"1\" class=\"dataframe\">\n  <thead>\n    <tr style=\"text-align: right;\">\n      <th></th>\n      <th>ID</th>\n      <th>age</th>\n      <th>current_occupation</th>\n      <th>first_interaction</th>\n      <th>profile_completed</th>\n      <th>website_visits</th>\n      <th>time_spent_on_website</th>\n      <th>page_views_per_visit</th>\n      <th>last_activity</th>\n      <th>print_media_type1</th>\n      <th>print_media_type2</th>\n      <th>digital_media</th>\n      <th>educational_channels</th>\n      <th>referral</th>\n      <th>status</th>\n    </tr>\n  </thead>\n  <tbody>\n    <tr>\n      <th>0</th>\n      <td>EXT001</td>\n      <td>57</td>\n      <td>Unemployed</td>\n      <td>Website</td>\n      <td>High</td>\n      <td>7</td>\n      <td>1639</td>\n      <td>1.861</td>\n      <td>Website Activity</td>\n      <td>Yes</td>\n      <td>No</td>\n      <td>Yes</td>\n      <td>No</td>\n      <td>No</td>\n      <td>1</td>\n    </tr>\n    <tr>\n      <th>1</th>\n      <td>EXT002</td>\n      <td>56</td>\n      <td>Professional</td>\n      <td>Mobile App</td>\n      <td>Medium</td>\n      <td>2</td>\n      <td>83</td>\n      <td>0.320</td>\n      <td>Website Activity</td>\n      <td>No</td>\n      <td>No</td>\n      <td>No</td>\n      <td>Yes</td>\n      <td>No</td>\n      <td>0</td>\n    </tr>\n    <tr>\n      <th>2</th>\n      <td>EXT003</td>\n      <td>52</td>\n      <td>Professional</td>\n      <td>Website</td>\n      <td>Medium</td>\n      <td>3</td>\n      <td>330</td>\n      <td>0.074</td>\n      <td>Website Activity</td>\n      <td>No</td>\n      <td>No</td>\n      <td>Yes</td>\n      <td>No</td>\n      <td>No</td>\n      <td>0</td>\n    </tr>\n    <tr>\n      <th>3</th>\n      <td>EXT004</td>\n      <td>53</td>\n      <td>Unemployed</td>\n      <td>Website</td>\n      <td>High</td>\n      <td>4</td>\n      <td>464</td>\n      <td>2.057</td>\n      <td>Website Activity</td>\n      <td>No</td>\n      <td>No</td>\n      <td>No</td>\n      <td>No</td>\n      <td>No</td>\n      <td>1</td>\n    </tr>\n    <tr>\n      <th>4</th>\n      <td>EXT005</td>\n      <td>23</td>\n      <td>Student</td>\n      <td>Website</td>\n      <td>High</td>\n      <td>4</td>\n      <td>600</td>\n      <td>16.914</td>\n      <td>Email Activity</td>\n      <td>No</td>\n      <td>No</td>\n      <td>No</td>\n      <td>No</td>\n      <td>No</td>\n      <td>0</td>\n    </tr>\n  </tbody>\n</table>\n</div>"
     },
     "execution_count": 50,
     "metadata": {},
     "output_type": "execute_result"
    }
   ],
   "source": [
    "# initial inspection of the data\n",
    "df.head()"
   ],
   "metadata": {
    "collapsed": false,
    "ExecuteTime": {
     "end_time": "2024-08-27T12:19:59.568936Z",
     "start_time": "2024-08-27T12:19:59.550752Z"
    }
   },
   "id": "2226426dc03af57b",
   "execution_count": 50
  },
  {
   "cell_type": "code",
   "outputs": [
    {
     "name": "stdout",
     "output_type": "stream",
     "text": [
      "<class 'pandas.core.frame.DataFrame'>\n",
      "RangeIndex: 4612 entries, 0 to 4611\n",
      "Data columns (total 15 columns):\n",
      " #   Column                 Non-Null Count  Dtype  \n",
      "---  ------                 --------------  -----  \n",
      " 0   ID                     4612 non-null   object \n",
      " 1   age                    4612 non-null   int64  \n",
      " 2   current_occupation     4612 non-null   object \n",
      " 3   first_interaction      4612 non-null   object \n",
      " 4   profile_completed      4612 non-null   object \n",
      " 5   website_visits         4612 non-null   int64  \n",
      " 6   time_spent_on_website  4612 non-null   int64  \n",
      " 7   page_views_per_visit   4612 non-null   float64\n",
      " 8   last_activity          4612 non-null   object \n",
      " 9   print_media_type1      4612 non-null   object \n",
      " 10  print_media_type2      4612 non-null   object \n",
      " 11  digital_media          4612 non-null   object \n",
      " 12  educational_channels   4612 non-null   object \n",
      " 13  referral               4612 non-null   object \n",
      " 14  status                 4612 non-null   int64  \n",
      "dtypes: float64(1), int64(4), object(10)\n",
      "memory usage: 540.6+ KB\n"
     ]
    }
   ],
   "source": [
    "# look at the columns and datatypes for each column \n",
    "df.info()"
   ],
   "metadata": {
    "collapsed": false,
    "ExecuteTime": {
     "end_time": "2024-08-27T12:20:00.447015Z",
     "start_time": "2024-08-27T12:20:00.434799Z"
    }
   },
   "id": "143e8996ee10e744",
   "execution_count": 51
  },
  {
   "cell_type": "code",
   "outputs": [],
   "source": [
    "# function to inspect the data types, variables and number of entries in each column\n",
    "\n",
    "def inspect_variable_values(data: pd.DataFrame):\n",
    "    \n",
    "    # iterate through each column\n",
    "    for i, col in enumerate(data.columns):\n",
    "        \n",
    "        # get a pandas series of the values in each column\n",
    "        vals: np.ndarray = data[col].unique()\n",
    "        \n",
    "        # get the data type of the variables\n",
    "        data_type = vals.dtype\n",
    "        \n",
    "        # print the column name\n",
    "        print(f'{i + 1}. {col} \\n')\n",
    "        \n",
    "        # print the columns data type\n",
    "        print(f'Data type: {data_type}')\n",
    "        \n",
    "        # print the number of values the variable takes on\n",
    "        print(\"Number of values:\", len(vals))\n",
    "        \n",
    "        # print the values inside the column\n",
    "        \n",
    "        # if the variable takes on < 20 vals, print all the values\n",
    "        if len(vals) < 20: \n",
    "            print(\"Values taken on by the variable:\",vals)\n",
    "        else:\n",
    "            # otherwise, if the variable takes on > 20 values and is numeric, then print the range of values the variable takes on\n",
    "            if isinstance(data_type, (np.dtypes.Int64DType, np.dtypes.Float64DType)):\n",
    "                print(\"Values taken on by the variable:\",f\"Range: {vals.min()} - {vals.max()}\")\n",
    "            else:\n",
    "                # otherwise the values are categorical, then print only the first 20 values\n",
    "                print(\"Values taken on by the variable:\", vals[:20])\n",
    "        \n",
    "        # new line between columns        \n",
    "        print()"
   ],
   "metadata": {
    "collapsed": false,
    "ExecuteTime": {
     "end_time": "2024-08-27T12:20:01.103379Z",
     "start_time": "2024-08-27T12:20:01.094498Z"
    }
   },
   "id": "d6560292000b5de6",
   "execution_count": 52
  },
  {
   "cell_type": "code",
   "outputs": [
    {
     "name": "stdout",
     "output_type": "stream",
     "text": [
      "1. ID \n",
      "\n",
      "Data type: object\n",
      "Number of values: 4612\n",
      "Values taken on by the variable: ['EXT001' 'EXT002' 'EXT003' 'EXT004' 'EXT005' 'EXT006' 'EXT007' 'EXT008'\n",
      " 'EXT009' 'EXT010' 'EXT011' 'EXT012' 'EXT013' 'EXT014' 'EXT015' 'EXT016'\n",
      " 'EXT017' 'EXT018' 'EXT019' 'EXT020']\n",
      "\n",
      "2. age \n",
      "\n",
      "Data type: int64\n",
      "Number of values: 46\n",
      "Values taken on by the variable: Range: 18 - 63\n",
      "\n",
      "3. current_occupation \n",
      "\n",
      "Data type: object\n",
      "Number of values: 3\n",
      "Values taken on by the variable: ['Unemployed' 'Professional' 'Student']\n",
      "\n",
      "4. first_interaction \n",
      "\n",
      "Data type: object\n",
      "Number of values: 2\n",
      "Values taken on by the variable: ['Website' 'Mobile App']\n",
      "\n",
      "5. profile_completed \n",
      "\n",
      "Data type: object\n",
      "Number of values: 3\n",
      "Values taken on by the variable: ['High' 'Medium' 'Low']\n",
      "\n",
      "6. website_visits \n",
      "\n",
      "Data type: int64\n",
      "Number of values: 27\n",
      "Values taken on by the variable: Range: 0 - 30\n",
      "\n",
      "7. time_spent_on_website \n",
      "\n",
      "Data type: int64\n",
      "Number of values: 1623\n",
      "Values taken on by the variable: Range: 0 - 2537\n",
      "\n",
      "8. page_views_per_visit \n",
      "\n",
      "Data type: float64\n",
      "Number of values: 2414\n",
      "Values taken on by the variable: Range: 0.0 - 18.434\n",
      "\n",
      "9. last_activity \n",
      "\n",
      "Data type: object\n",
      "Number of values: 3\n",
      "Values taken on by the variable: ['Website Activity' 'Email Activity' 'Phone Activity']\n",
      "\n",
      "10. print_media_type1 \n",
      "\n",
      "Data type: object\n",
      "Number of values: 2\n",
      "Values taken on by the variable: ['Yes' 'No']\n",
      "\n",
      "11. print_media_type2 \n",
      "\n",
      "Data type: object\n",
      "Number of values: 2\n",
      "Values taken on by the variable: ['No' 'Yes']\n",
      "\n",
      "12. digital_media \n",
      "\n",
      "Data type: object\n",
      "Number of values: 2\n",
      "Values taken on by the variable: ['Yes' 'No']\n",
      "\n",
      "13. educational_channels \n",
      "\n",
      "Data type: object\n",
      "Number of values: 2\n",
      "Values taken on by the variable: ['No' 'Yes']\n",
      "\n",
      "14. referral \n",
      "\n",
      "Data type: object\n",
      "Number of values: 2\n",
      "Values taken on by the variable: ['No' 'Yes']\n",
      "\n",
      "15. status \n",
      "\n",
      "Data type: int64\n",
      "Number of values: 2\n",
      "Values taken on by the variable: [1 0]\n"
     ]
    }
   ],
   "source": [
    "# call to the inspection function \n",
    "inspect_variable_values(df)"
   ],
   "metadata": {
    "collapsed": false,
    "ExecuteTime": {
     "end_time": "2024-08-27T12:20:01.866470Z",
     "start_time": "2024-08-27T12:20:01.856331Z"
    }
   },
   "id": "39d9887f990c90ae",
   "execution_count": 53
  },
  {
   "cell_type": "markdown",
   "source": [
    "### Observations:\n",
    "\n",
    "The data consists of 15 columns (variables). None of the columns contain null values. \n",
    "\n",
    "The set of features consist of the following numerical, categorical and binary variables:\n",
    "\n",
    "Numerical Variables:\n",
    "\n",
    "1. Age, an integer ranging from 18 to 63.\n",
    "2. Number of Website visits, an integer ranging form 0 to 30.\n",
    "3. Time spent on the website, an integer (indicating seconds) ranging from 0 to 2537.\n",
    "4. Page views per visit, a floating point number.\n",
    "\n",
    "Categorical Variables:\n",
    "\n",
    "1. Current Occupation, Values: Unemployed, Professional, Student\n",
    "2. First Interaction, Values: Website, Mobile App\n",
    "3. Percentage Profile Completed, Values: High, Medium, Low\n",
    "4. Last Activity, Values: Website Activity, Email Activity, Phone Activity\n",
    "\n",
    "Binary Variables:\n",
    "\n",
    "1. Print Media Type 1\n",
    "2. Print Media Type 2\n",
    "3. Digital Media\n",
    "4. Educational Channels\n",
    "5. Referral\n",
    "\n",
    "The Target or Response variable is the binary 'status' variable. Which indicates whether the lead was converted to a paying customer or not.\n",
    "\n",
    "The ID variable is unique to each lead and is therefore irrelevant to the analysis. "
   ],
   "metadata": {
    "collapsed": false
   },
   "id": "c9fd4da0fdadb438"
  },
  {
   "cell_type": "markdown",
   "id": "seasonal-calibration",
   "metadata": {
    "id": "seasonal-calibration"
   },
   "source": [
    "## Exploratory Data Analysis (EDA)\n",
    "\n",
    "- EDA is an important part of any project involving data.\n",
    "- It is important to investigate and understand the data better before building a model with it.\n",
    "- A few questions have been mentioned below which will help you approach the analysis in the right manner and generate insights from the data.\n",
    "- A thorough analysis of the data, in addition to the questions mentioned below, should be done."
   ]
  },
  {
   "cell_type": "code",
   "outputs": [],
   "source": [
    "# first drop the irrelevant column (id)\n",
    "df = df.drop(columns = 'ID')"
   ],
   "metadata": {
    "collapsed": false,
    "ExecuteTime": {
     "end_time": "2024-08-27T12:20:04.637766Z",
     "start_time": "2024-08-27T12:20:04.631709Z"
    }
   },
   "id": "3cb9936fcc114d0f",
   "execution_count": 54
  },
  {
   "cell_type": "code",
   "outputs": [
    {
     "name": "stdout",
     "output_type": "stream",
     "text": [
      "<class 'pandas.core.frame.DataFrame'>\n",
      "RangeIndex: 4612 entries, 0 to 4611\n",
      "Data columns (total 14 columns):\n",
      " #   Column                 Non-Null Count  Dtype  \n",
      "---  ------                 --------------  -----  \n",
      " 0   age                    4612 non-null   int64  \n",
      " 1   current_occupation     4612 non-null   object \n",
      " 2   first_interaction      4612 non-null   object \n",
      " 3   profile_completed      4612 non-null   object \n",
      " 4   website_visits         4612 non-null   int64  \n",
      " 5   time_spent_on_website  4612 non-null   int64  \n",
      " 6   page_views_per_visit   4612 non-null   float64\n",
      " 7   last_activity          4612 non-null   object \n",
      " 8   print_media_type1      4612 non-null   object \n",
      " 9   print_media_type2      4612 non-null   object \n",
      " 10  digital_media          4612 non-null   object \n",
      " 11  educational_channels   4612 non-null   object \n",
      " 12  referral               4612 non-null   object \n",
      " 13  status                 4612 non-null   int64  \n",
      "dtypes: float64(1), int64(4), object(9)\n",
      "memory usage: 504.6+ KB\n"
     ]
    }
   ],
   "source": [
    "# check that the column has been dropped\n",
    "df.info()"
   ],
   "metadata": {
    "collapsed": false,
    "ExecuteTime": {
     "end_time": "2024-08-27T12:20:05.041547Z",
     "start_time": "2024-08-27T12:20:05.027772Z"
    }
   },
   "id": "aef61b818bb0b79a",
   "execution_count": 55
  },
  {
   "cell_type": "code",
   "outputs": [],
   "source": [
    "# list of column names for numerical variables\n",
    "numerical_vars: list = []\n",
    "\n",
    "# list of column names for categorical variables\n",
    "categorical_vars: list = []\n",
    "\n",
    "# list of column names for binary variables\n",
    "binary_vars: list = []"
   ],
   "metadata": {
    "collapsed": false,
    "ExecuteTime": {
     "end_time": "2024-08-27T12:21:02.941933Z",
     "start_time": "2024-08-27T12:21:02.935544Z"
    }
   },
   "id": "734729758ce63bb8",
   "execution_count": 60
  },
  {
   "cell_type": "code",
   "outputs": [],
   "source": [
    "# loop through the data and add the column name to the appropriate list\n",
    "\n",
    "for col in df: \n",
    "    vals = df[col].to_numpy()\n",
    "    data_type = vals.dtype\n",
    "    \n",
    "    if isinstance(data_type, (np.dtypes.Int64DType, np.dtypes.Float64DType)) and len(vals) > 2:\n",
    "        numerical_vars.append(col)\n",
    "    elif np.isin(\"Yes\", vals):\n",
    "        binary_vars.append(col)\n",
    "    else:\n",
    "        categorical_vars.append(col)"
   ],
   "metadata": {
    "collapsed": false,
    "ExecuteTime": {
     "end_time": "2024-08-27T12:21:03.491183Z",
     "start_time": "2024-08-27T12:21:03.348830Z"
    }
   },
   "id": "5a37f92d301d5483",
   "execution_count": 61
  },
  {
   "cell_type": "code",
   "outputs": [
    {
     "name": "stdout",
     "output_type": "stream",
     "text": [
      "Numerical Variables:  ['age', 'website_visits', 'time_spent_on_website', 'page_views_per_visit']\n",
      "Categorical Variables:  ['current_occupation', 'first_interaction', 'profile_completed', 'last_activity']\n",
      "Binary Variables:  ['print_media_type1', 'print_media_type2', 'digital_media', 'educational_channels', 'referral']\n"
     ]
    }
   ],
   "source": [
    "numerical_vars.remove(\"status\")\n",
    "print(\"Numerical Variables: \",numerical_vars)\n",
    "print(\"Categorical Variables: \",categorical_vars)\n",
    "print(\"Binary Variables: \",binary_vars)"
   ],
   "metadata": {
    "collapsed": false,
    "ExecuteTime": {
     "end_time": "2024-08-27T12:21:03.999955Z",
     "start_time": "2024-08-27T12:21:03.993102Z"
    }
   },
   "id": "bf93e9b8239116fc",
   "execution_count": 62
  },
  {
   "cell_type": "code",
   "outputs": [],
   "source": [],
   "metadata": {
    "collapsed": false
   },
   "id": "a65bb011615ebb27"
  },
  {
   "cell_type": "markdown",
   "id": "approved-brother",
   "metadata": {
    "id": "approved-brother"
   },
   "source": [
    "**Questions**\n",
    "1. Leads will have different expectations from the outcome of the course and the current occupation may play a key role in getting them to participate in the program. Find out how current occupation affects lead status.\n",
    "2. The company's first impression on the customer must have an impact. Do the first channels of interaction have an impact on the lead status? \n",
    "3. The company uses multiple modes to interact with prospects. Which way of interaction works best? \n",
    "4. The company gets leads from various channels such as print media, digital media, referrals, etc. Which of these channels have the highest lead conversion rate?\n",
    "5. People browsing the website or mobile application are generally required to create a profile by sharing their personal data before they can access additional information.Does having more details about a prospect increase the chances of conversion?"
   ]
  },
  {
   "cell_type": "markdown",
   "id": "alleged-spirituality",
   "metadata": {
    "id": "alleged-spirituality"
   },
   "source": [
    "## Data Preprocessing\n",
    "\n",
    "- Missing value treatment (if needed)\n",
    "- Feature engineering (if needed)\n",
    "- Outlier detection and treatment (if needed)\n",
    "- Preparing data for modeling \n",
    "- Any other preprocessing steps (if needed)"
   ]
  },
  {
   "cell_type": "code",
   "execution_count": null,
   "id": "increasing-louisiana",
   "metadata": {
    "id": "increasing-louisiana"
   },
   "outputs": [],
   "source": []
  },
  {
   "cell_type": "markdown",
   "id": "difficult-union",
   "metadata": {
    "id": "difficult-union"
   },
   "source": [
    "## EDA\n",
    "\n",
    "- It is a good idea to explore the data once again after manipulating it."
   ]
  },
  {
   "cell_type": "code",
   "execution_count": null,
   "id": "interested-talent",
   "metadata": {
    "id": "interested-talent"
   },
   "outputs": [],
   "source": []
  },
  {
   "cell_type": "markdown",
   "id": "amazing-fluid",
   "metadata": {
    "id": "amazing-fluid"
   },
   "source": [
    "## Building a Decision Tree model"
   ]
  },
  {
   "cell_type": "code",
   "execution_count": null,
   "id": "neither-hydrogen",
   "metadata": {
    "id": "neither-hydrogen"
   },
   "outputs": [],
   "source": []
  },
  {
   "cell_type": "markdown",
   "id": "limited-strengthening",
   "metadata": {
    "id": "limited-strengthening"
   },
   "source": [
    "## Do we need to prune the tree?"
   ]
  },
  {
   "cell_type": "code",
   "execution_count": null,
   "id": "ambient-elements",
   "metadata": {
    "id": "ambient-elements"
   },
   "outputs": [],
   "source": []
  },
  {
   "cell_type": "markdown",
   "id": "a8c47c07",
   "metadata": {
    "id": "amazing-fluid"
   },
   "source": [
    "## Building a Random Forest model"
   ]
  },
  {
   "cell_type": "code",
   "execution_count": null,
   "id": "8bbd87fb",
   "metadata": {},
   "outputs": [],
   "source": []
  },
  {
   "cell_type": "markdown",
   "id": "11bc14ca",
   "metadata": {},
   "source": [
    "## Do we need to prune the tree?"
   ]
  },
  {
   "cell_type": "code",
   "execution_count": null,
   "id": "65f89cc9",
   "metadata": {},
   "outputs": [],
   "source": []
  },
  {
   "cell_type": "markdown",
   "id": "nasty-retailer",
   "metadata": {
    "id": "nasty-retailer"
   },
   "source": [
    "## Actionable Insights and Recommendations"
   ]
  },
  {
   "cell_type": "code",
   "execution_count": null,
   "id": "amino-prediction",
   "metadata": {
    "id": "amino-prediction"
   },
   "outputs": [],
   "source": []
  }
 ],
 "metadata": {
  "colab": {
   "collapsed_sections": [],
   "name": "ExtraaLearn_Project_Template_Notebook.ipynb",
   "provenance": []
  },
  "kernelspec": {
   "display_name": "Python 3 (ipykernel)",
   "language": "python",
   "name": "python3"
  },
  "language_info": {
   "codemirror_mode": {
    "name": "ipython",
    "version": 3
   },
   "file_extension": ".py",
   "mimetype": "text/x-python",
   "name": "python",
   "nbconvert_exporter": "python",
   "pygments_lexer": "ipython3",
   "version": "3.9.7"
  }
 },
 "nbformat": 4,
 "nbformat_minor": 5
}
